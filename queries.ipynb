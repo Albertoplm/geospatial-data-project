{
 "cells": [
  {
   "cell_type": "markdown",
   "id": "9cfa46cf",
   "metadata": {},
   "source": [
    "# Pido establecimientos a foursquare"
   ]
  },
  {
   "cell_type": "code",
   "execution_count": 1,
   "id": "580c8803",
   "metadata": {},
   "outputs": [],
   "source": [
    "from pymongo import MongoClient\n",
    "from pymongo import GEOSPHERE\n",
    "import pandas as pd\n",
    "import requests\n",
    "import json\n",
    "from dotenv import load_dotenv\n",
    "import os\n",
    "import src.api as api"
   ]
  },
  {
   "cell_type": "markdown",
   "id": "d7c5027f",
   "metadata": {},
   "source": [
    "### Vegan restaurans"
   ]
  },
  {
   "cell_type": "code",
   "execution_count": 2,
   "id": "73e4bc64",
   "metadata": {},
   "outputs": [],
   "source": [
    "vegano = 'vegano'"
   ]
  },
  {
   "cell_type": "code",
   "execution_count": 3,
   "id": "2ffa7400",
   "metadata": {},
   "outputs": [],
   "source": [
    "resp = api.request_four(vegano)"
   ]
  },
  {
   "cell_type": "code",
   "execution_count": 4,
   "id": "d12b8f1a",
   "metadata": {},
   "outputs": [],
   "source": [
    "veganos = api.decode(resp)"
   ]
  },
  {
   "cell_type": "code",
   "execution_count": 5,
   "id": "3b3569de",
   "metadata": {},
   "outputs": [],
   "source": [
    "lista_veganos = pd.DataFrame(veganos)"
   ]
  },
  {
   "cell_type": "code",
   "execution_count": 6,
   "id": "64142b58",
   "metadata": {},
   "outputs": [
    {
     "data": {
      "text/html": [
       "<div>\n",
       "<style scoped>\n",
       "    .dataframe tbody tr th:only-of-type {\n",
       "        vertical-align: middle;\n",
       "    }\n",
       "\n",
       "    .dataframe tbody tr th {\n",
       "        vertical-align: top;\n",
       "    }\n",
       "\n",
       "    .dataframe thead th {\n",
       "        text-align: right;\n",
       "    }\n",
       "</style>\n",
       "<table border=\"1\" class=\"dataframe\">\n",
       "  <thead>\n",
       "    <tr style=\"text-align: right;\">\n",
       "      <th></th>\n",
       "      <th>name</th>\n",
       "      <th>latitud</th>\n",
       "      <th>longitud</th>\n",
       "    </tr>\n",
       "  </thead>\n",
       "  <tbody>\n",
       "    <tr>\n",
       "      <th>0</th>\n",
       "      <td>VEGA</td>\n",
       "      <td>40.422318</td>\n",
       "      <td>-3.706047</td>\n",
       "    </tr>\n",
       "    <tr>\n",
       "      <th>1</th>\n",
       "      <td>B13 Bar</td>\n",
       "      <td>40.421921</td>\n",
       "      <td>-3.703402</td>\n",
       "    </tr>\n",
       "    <tr>\n",
       "      <th>2</th>\n",
       "      <td>pura vida vegan bar</td>\n",
       "      <td>40.410208</td>\n",
       "      <td>-3.709029</td>\n",
       "    </tr>\n",
       "    <tr>\n",
       "      <th>3</th>\n",
       "      <td>Levél Veggie Bistro</td>\n",
       "      <td>40.415730</td>\n",
       "      <td>-3.677641</td>\n",
       "    </tr>\n",
       "    <tr>\n",
       "      <th>4</th>\n",
       "      <td>La Encomienda</td>\n",
       "      <td>40.410672</td>\n",
       "      <td>-3.705982</td>\n",
       "    </tr>\n",
       "  </tbody>\n",
       "</table>\n",
       "</div>"
      ],
      "text/plain": [
       "                  name    latitud  longitud\n",
       "0                 VEGA  40.422318 -3.706047\n",
       "1              B13 Bar  40.421921 -3.703402\n",
       "2  pura vida vegan bar  40.410208 -3.709029\n",
       "3  Levél Veggie Bistro  40.415730 -3.677641\n",
       "4        La Encomienda  40.410672 -3.705982"
      ]
     },
     "execution_count": 6,
     "metadata": {},
     "output_type": "execute_result"
    }
   ],
   "source": [
    "lista_veganos.head()"
   ]
  },
  {
   "cell_type": "code",
   "execution_count": 7,
   "id": "a6847f7a",
   "metadata": {},
   "outputs": [],
   "source": [
    "df_veganos = api.typepoint(veganos)"
   ]
  },
  {
   "cell_type": "code",
   "execution_count": 8,
   "id": "a2e3dd93",
   "metadata": {},
   "outputs": [],
   "source": [
    "df_veganos['tipo'] = 'vegan'"
   ]
  },
  {
   "cell_type": "markdown",
   "id": "e543bbb2",
   "metadata": {},
   "source": [
    "### Starbucks"
   ]
  },
  {
   "cell_type": "code",
   "execution_count": 9,
   "id": "113e76a2",
   "metadata": {},
   "outputs": [],
   "source": [
    "starbucks = 'starbucks'"
   ]
  },
  {
   "cell_type": "code",
   "execution_count": 10,
   "id": "991c46db",
   "metadata": {},
   "outputs": [],
   "source": [
    "resp = api.request_four(starbucks)"
   ]
  },
  {
   "cell_type": "code",
   "execution_count": 11,
   "id": "955490bb",
   "metadata": {},
   "outputs": [],
   "source": [
    "starbucks = api.decode(resp)"
   ]
  },
  {
   "cell_type": "code",
   "execution_count": 12,
   "id": "be41f3d1",
   "metadata": {},
   "outputs": [],
   "source": [
    "lista_starbucks = pd.DataFrame(starbucks)"
   ]
  },
  {
   "cell_type": "code",
   "execution_count": 13,
   "id": "4d813b72",
   "metadata": {},
   "outputs": [
    {
     "data": {
      "text/html": [
       "<div>\n",
       "<style scoped>\n",
       "    .dataframe tbody tr th:only-of-type {\n",
       "        vertical-align: middle;\n",
       "    }\n",
       "\n",
       "    .dataframe tbody tr th {\n",
       "        vertical-align: top;\n",
       "    }\n",
       "\n",
       "    .dataframe thead th {\n",
       "        text-align: right;\n",
       "    }\n",
       "</style>\n",
       "<table border=\"1\" class=\"dataframe\">\n",
       "  <thead>\n",
       "    <tr style=\"text-align: right;\">\n",
       "      <th></th>\n",
       "      <th>name</th>\n",
       "      <th>latitud</th>\n",
       "      <th>longitud</th>\n",
       "    </tr>\n",
       "  </thead>\n",
       "  <tbody>\n",
       "    <tr>\n",
       "      <th>0</th>\n",
       "      <td>Starbucks Room Mate Oscar</td>\n",
       "      <td>40.420752</td>\n",
       "      <td>-3.699315</td>\n",
       "    </tr>\n",
       "    <tr>\n",
       "      <th>1</th>\n",
       "      <td>Starbucks Princesa 40</td>\n",
       "      <td>40.429069</td>\n",
       "      <td>-3.715079</td>\n",
       "    </tr>\n",
       "    <tr>\n",
       "      <th>2</th>\n",
       "      <td>Starbucks Plaza Río 2</td>\n",
       "      <td>40.391304</td>\n",
       "      <td>-3.701123</td>\n",
       "    </tr>\n",
       "    <tr>\n",
       "      <th>3</th>\n",
       "      <td>Starbucks Pozuelo</td>\n",
       "      <td>40.438168</td>\n",
       "      <td>-3.793838</td>\n",
       "    </tr>\n",
       "    <tr>\n",
       "      <th>4</th>\n",
       "      <td>Starbucks ECI Castellana (Starbucks)</td>\n",
       "      <td>40.447489</td>\n",
       "      <td>-3.693093</td>\n",
       "    </tr>\n",
       "  </tbody>\n",
       "</table>\n",
       "</div>"
      ],
      "text/plain": [
       "                                   name    latitud  longitud\n",
       "0             Starbucks Room Mate Oscar  40.420752 -3.699315\n",
       "1                 Starbucks Princesa 40  40.429069 -3.715079\n",
       "2                 Starbucks Plaza Río 2  40.391304 -3.701123\n",
       "3                     Starbucks Pozuelo  40.438168 -3.793838\n",
       "4  Starbucks ECI Castellana (Starbucks)  40.447489 -3.693093"
      ]
     },
     "execution_count": 13,
     "metadata": {},
     "output_type": "execute_result"
    }
   ],
   "source": [
    "lista_starbucks.head()"
   ]
  },
  {
   "cell_type": "code",
   "execution_count": 14,
   "id": "a137bfa9",
   "metadata": {},
   "outputs": [],
   "source": [
    "df_starbucks = api.typepoint(starbucks)"
   ]
  },
  {
   "cell_type": "code",
   "execution_count": 15,
   "id": "caf15f05",
   "metadata": {},
   "outputs": [],
   "source": [
    "df_starbucks['tipo'] = 'starbucks'"
   ]
  },
  {
   "cell_type": "markdown",
   "id": "3ed0c69c",
   "metadata": {},
   "source": [
    "### Airport"
   ]
  },
  {
   "cell_type": "code",
   "execution_count": 16,
   "id": "b104ded7",
   "metadata": {},
   "outputs": [],
   "source": [
    "aeropuerto = 'airport'"
   ]
  },
  {
   "cell_type": "code",
   "execution_count": 17,
   "id": "1e68c98b",
   "metadata": {},
   "outputs": [],
   "source": [
    "resp = api.request_four(aeropuerto)"
   ]
  },
  {
   "cell_type": "code",
   "execution_count": 18,
   "id": "8d982bae",
   "metadata": {},
   "outputs": [],
   "source": [
    "aeropuerto = api.decode(resp)"
   ]
  },
  {
   "cell_type": "code",
   "execution_count": 19,
   "id": "b1e1e425",
   "metadata": {},
   "outputs": [],
   "source": [
    "lista_aeropuerto = pd.DataFrame(aeropuerto)"
   ]
  },
  {
   "cell_type": "code",
   "execution_count": 20,
   "id": "831a5e27",
   "metadata": {},
   "outputs": [],
   "source": [
    "lista_aeropuerto = lista_aeropuerto.head(1)"
   ]
  },
  {
   "cell_type": "code",
   "execution_count": 21,
   "id": "88bc0ad4",
   "metadata": {},
   "outputs": [],
   "source": [
    "df_aeropuerto = api.typepoint(aeropuerto)"
   ]
  },
  {
   "cell_type": "code",
   "execution_count": 22,
   "id": "b9ef4765",
   "metadata": {},
   "outputs": [],
   "source": [
    "df_aeropuerto = df_aeropuerto.head(1)"
   ]
  },
  {
   "cell_type": "code",
   "execution_count": 23,
   "id": "83b5471e",
   "metadata": {},
   "outputs": [],
   "source": [
    "df_aeropuerto['tipo'] = 'aeropuerto'"
   ]
  },
  {
   "cell_type": "markdown",
   "id": "078e7fe3",
   "metadata": {},
   "source": [
    "### Night clubs"
   ]
  },
  {
   "cell_type": "code",
   "execution_count": 24,
   "id": "cb547223",
   "metadata": {},
   "outputs": [],
   "source": [
    "discoteca = 'club'"
   ]
  },
  {
   "cell_type": "code",
   "execution_count": 25,
   "id": "507098da",
   "metadata": {},
   "outputs": [],
   "source": [
    "resp = api.request_four(discoteca)"
   ]
  },
  {
   "cell_type": "code",
   "execution_count": 26,
   "id": "bc6d9df1",
   "metadata": {},
   "outputs": [],
   "source": [
    "discoteca = api.decode(resp)"
   ]
  },
  {
   "cell_type": "code",
   "execution_count": 27,
   "id": "0817c62f",
   "metadata": {},
   "outputs": [],
   "source": [
    "lista_discoteca = pd.DataFrame(discoteca)"
   ]
  },
  {
   "cell_type": "code",
   "execution_count": 28,
   "id": "ee13f390",
   "metadata": {},
   "outputs": [],
   "source": [
    "df_discoteca = api.typepoint(discoteca)"
   ]
  },
  {
   "cell_type": "code",
   "execution_count": 29,
   "id": "e2147422",
   "metadata": {},
   "outputs": [],
   "source": [
    "df_discoteca['tipo'] = 'club'"
   ]
  },
  {
   "cell_type": "markdown",
   "id": "e40c47f0",
   "metadata": {},
   "source": [
    "### Basketball"
   ]
  },
  {
   "cell_type": "code",
   "execution_count": 30,
   "id": "356e088a",
   "metadata": {},
   "outputs": [],
   "source": [
    "baloncesto = 'baloncesto'"
   ]
  },
  {
   "cell_type": "code",
   "execution_count": 31,
   "id": "a46c8900",
   "metadata": {},
   "outputs": [],
   "source": [
    "resp = api.request_four(baloncesto)"
   ]
  },
  {
   "cell_type": "code",
   "execution_count": 32,
   "id": "9f221601",
   "metadata": {},
   "outputs": [],
   "source": [
    "baloncesto = api.decode(resp)"
   ]
  },
  {
   "cell_type": "code",
   "execution_count": 33,
   "id": "122e8962",
   "metadata": {},
   "outputs": [],
   "source": [
    "lista_baloncesto = pd.DataFrame(baloncesto)"
   ]
  },
  {
   "cell_type": "code",
   "execution_count": 34,
   "id": "a7017873",
   "metadata": {},
   "outputs": [],
   "source": [
    "df_baloncesto = api.typepoint(baloncesto)"
   ]
  },
  {
   "cell_type": "code",
   "execution_count": 35,
   "id": "9ba99cdd",
   "metadata": {},
   "outputs": [],
   "source": [
    "df_baloncesto['tipo'] = 'basketball'"
   ]
  },
  {
   "cell_type": "markdown",
   "id": "4a2bf386",
   "metadata": {},
   "source": [
    "### Kindergarten"
   ]
  },
  {
   "cell_type": "code",
   "execution_count": 36,
   "id": "f75f447d",
   "metadata": {},
   "outputs": [],
   "source": [
    "infantil = 'colegio infantil', 'escuelita','nursery', 'infantil'"
   ]
  },
  {
   "cell_type": "code",
   "execution_count": 37,
   "id": "968e90ef",
   "metadata": {},
   "outputs": [],
   "source": [
    "resp = api.request_four(infantil)"
   ]
  },
  {
   "cell_type": "code",
   "execution_count": 38,
   "id": "21980a4f",
   "metadata": {},
   "outputs": [],
   "source": [
    "infantil = api.decode(resp)"
   ]
  },
  {
   "cell_type": "code",
   "execution_count": 39,
   "id": "17a6f546",
   "metadata": {},
   "outputs": [],
   "source": [
    "lista_infantil = pd.DataFrame(infantil)"
   ]
  },
  {
   "cell_type": "code",
   "execution_count": 40,
   "id": "c190981c",
   "metadata": {},
   "outputs": [],
   "source": [
    "df_infantil = api.typepoint(infantil)"
   ]
  },
  {
   "cell_type": "code",
   "execution_count": 41,
   "id": "5bc5b540",
   "metadata": {},
   "outputs": [],
   "source": [
    "df_infantil['tipo'] = 'kindergarten'"
   ]
  },
  {
   "cell_type": "markdown",
   "id": "b0d398ff",
   "metadata": {},
   "source": [
    "### Hairdresser"
   ]
  },
  {
   "cell_type": "code",
   "execution_count": 42,
   "id": "aa4b92da",
   "metadata": {},
   "outputs": [],
   "source": [
    "veterinario = 'peluqueria canina'"
   ]
  },
  {
   "cell_type": "code",
   "execution_count": 43,
   "id": "6d175567",
   "metadata": {},
   "outputs": [],
   "source": [
    "resp = api.request_four(veterinario)"
   ]
  },
  {
   "cell_type": "code",
   "execution_count": 44,
   "id": "1b4f8c49",
   "metadata": {},
   "outputs": [],
   "source": [
    "veterinario = api.decode(resp)"
   ]
  },
  {
   "cell_type": "code",
   "execution_count": 45,
   "id": "b66cd23b",
   "metadata": {},
   "outputs": [],
   "source": [
    "lista_veterinario = pd.DataFrame(veterinario)"
   ]
  },
  {
   "cell_type": "code",
   "execution_count": 46,
   "id": "aa21c6de",
   "metadata": {},
   "outputs": [],
   "source": [
    "df_veterinario = api.typepoint(veterinario)"
   ]
  },
  {
   "cell_type": "code",
   "execution_count": 47,
   "id": "06a9eb7c",
   "metadata": {},
   "outputs": [
    {
     "data": {
      "text/html": [
       "<div>\n",
       "<style scoped>\n",
       "    .dataframe tbody tr th:only-of-type {\n",
       "        vertical-align: middle;\n",
       "    }\n",
       "\n",
       "    .dataframe tbody tr th {\n",
       "        vertical-align: top;\n",
       "    }\n",
       "\n",
       "    .dataframe thead th {\n",
       "        text-align: right;\n",
       "    }\n",
       "</style>\n",
       "<table border=\"1\" class=\"dataframe\">\n",
       "  <thead>\n",
       "    <tr style=\"text-align: right;\">\n",
       "      <th></th>\n",
       "      <th>name</th>\n",
       "      <th>location</th>\n",
       "      <th>tipo</th>\n",
       "    </tr>\n",
       "  </thead>\n",
       "  <tbody>\n",
       "    <tr>\n",
       "      <th>0</th>\n",
       "      <td>Mini zoo</td>\n",
       "      <td>{'type': 'Point', 'coordinates': [40.473123754...</td>\n",
       "      <td>hairdresser</td>\n",
       "    </tr>\n",
       "    <tr>\n",
       "      <th>1</th>\n",
       "      <td>Tropi Fauna</td>\n",
       "      <td>{'type': 'Point', 'coordinates': [40.089626, -...</td>\n",
       "      <td>hairdresser</td>\n",
       "    </tr>\n",
       "    <tr>\n",
       "      <th>2</th>\n",
       "      <td>peluquería canina Daniela Vallejo</td>\n",
       "      <td>{'type': 'Point', 'coordinates': [40.366642440...</td>\n",
       "      <td>hairdresser</td>\n",
       "    </tr>\n",
       "    <tr>\n",
       "      <th>3</th>\n",
       "      <td>Can Cut Peluquería Canina</td>\n",
       "      <td>{'type': 'Point', 'coordinates': [40.396575142...</td>\n",
       "      <td>hairdresser</td>\n",
       "    </tr>\n",
       "    <tr>\n",
       "      <th>4</th>\n",
       "      <td>Peluquería Canina Peluditos</td>\n",
       "      <td>{'type': 'Point', 'coordinates': [40.392329251...</td>\n",
       "      <td>hairdresser</td>\n",
       "    </tr>\n",
       "    <tr>\n",
       "      <th>5</th>\n",
       "      <td>Water-dog Peluqueria Canina</td>\n",
       "      <td>{'type': 'Point', 'coordinates': [40.481479, -...</td>\n",
       "      <td>hairdresser</td>\n",
       "    </tr>\n",
       "    <tr>\n",
       "      <th>6</th>\n",
       "      <td>Peluquería Canina \"Lotta &amp; Less\"</td>\n",
       "      <td>{'type': 'Point', 'coordinates': [40.450457797...</td>\n",
       "      <td>hairdresser</td>\n",
       "    </tr>\n",
       "    <tr>\n",
       "      <th>7</th>\n",
       "      <td>Peluquería canina Truka</td>\n",
       "      <td>{'type': 'Point', 'coordinates': [40.348889356...</td>\n",
       "      <td>hairdresser</td>\n",
       "    </tr>\n",
       "    <tr>\n",
       "      <th>8</th>\n",
       "      <td>Nuka &amp; Noa - Peluquería Canina</td>\n",
       "      <td>{'type': 'Point', 'coordinates': [40.544982710...</td>\n",
       "      <td>hairdresser</td>\n",
       "    </tr>\n",
       "    <tr>\n",
       "      <th>9</th>\n",
       "      <td>Peluqueria canina la dehesa</td>\n",
       "      <td>{'type': 'Point', 'coordinates': [40.561991159...</td>\n",
       "      <td>hairdresser</td>\n",
       "    </tr>\n",
       "    <tr>\n",
       "      <th>10</th>\n",
       "      <td>Tula Peluqueria Canina</td>\n",
       "      <td>{'type': 'Point', 'coordinates': [40.488738161...</td>\n",
       "      <td>hairdresser</td>\n",
       "    </tr>\n",
       "    <tr>\n",
       "      <th>11</th>\n",
       "      <td>Peluquería Canina Sandra</td>\n",
       "      <td>{'type': 'Point', 'coordinates': [40.190224487...</td>\n",
       "      <td>hairdresser</td>\n",
       "    </tr>\n",
       "    <tr>\n",
       "      <th>12</th>\n",
       "      <td>Peluqueria Canina Beverly Dogs Navalcarnero</td>\n",
       "      <td>{'type': 'Point', 'coordinates': [40.286235008...</td>\n",
       "      <td>hairdresser</td>\n",
       "    </tr>\n",
       "    <tr>\n",
       "      <th>13</th>\n",
       "      <td>Peluquería canina Alaskan</td>\n",
       "      <td>{'type': 'Point', 'coordinates': [40.646271464...</td>\n",
       "      <td>hairdresser</td>\n",
       "    </tr>\n",
       "    <tr>\n",
       "      <th>14</th>\n",
       "      <td>Peluquería Canina RM</td>\n",
       "      <td>{'type': 'Point', 'coordinates': [40.674499248...</td>\n",
       "      <td>hairdresser</td>\n",
       "    </tr>\n",
       "  </tbody>\n",
       "</table>\n",
       "</div>"
      ],
      "text/plain": [
       "                                           name  \\\n",
       "0                                      Mini zoo   \n",
       "1                                   Tropi Fauna   \n",
       "2             peluquería canina Daniela Vallejo   \n",
       "3                     Can Cut Peluquería Canina   \n",
       "4                   Peluquería Canina Peluditos   \n",
       "5                   Water-dog Peluqueria Canina   \n",
       "6              Peluquería Canina \"Lotta & Less\"   \n",
       "7                       Peluquería canina Truka   \n",
       "8                Nuka & Noa - Peluquería Canina   \n",
       "9                   Peluqueria canina la dehesa   \n",
       "10                       Tula Peluqueria Canina   \n",
       "11                     Peluquería Canina Sandra   \n",
       "12  Peluqueria Canina Beverly Dogs Navalcarnero   \n",
       "13                    Peluquería canina Alaskan   \n",
       "14                         Peluquería Canina RM   \n",
       "\n",
       "                                             location         tipo  \n",
       "0   {'type': 'Point', 'coordinates': [40.473123754...  hairdresser  \n",
       "1   {'type': 'Point', 'coordinates': [40.089626, -...  hairdresser  \n",
       "2   {'type': 'Point', 'coordinates': [40.366642440...  hairdresser  \n",
       "3   {'type': 'Point', 'coordinates': [40.396575142...  hairdresser  \n",
       "4   {'type': 'Point', 'coordinates': [40.392329251...  hairdresser  \n",
       "5   {'type': 'Point', 'coordinates': [40.481479, -...  hairdresser  \n",
       "6   {'type': 'Point', 'coordinates': [40.450457797...  hairdresser  \n",
       "7   {'type': 'Point', 'coordinates': [40.348889356...  hairdresser  \n",
       "8   {'type': 'Point', 'coordinates': [40.544982710...  hairdresser  \n",
       "9   {'type': 'Point', 'coordinates': [40.561991159...  hairdresser  \n",
       "10  {'type': 'Point', 'coordinates': [40.488738161...  hairdresser  \n",
       "11  {'type': 'Point', 'coordinates': [40.190224487...  hairdresser  \n",
       "12  {'type': 'Point', 'coordinates': [40.286235008...  hairdresser  \n",
       "13  {'type': 'Point', 'coordinates': [40.646271464...  hairdresser  \n",
       "14  {'type': 'Point', 'coordinates': [40.674499248...  hairdresser  "
      ]
     },
     "execution_count": 47,
     "metadata": {},
     "output_type": "execute_result"
    }
   ],
   "source": [
    "df_veterinario['tipo'] = 'hairdresser'\n",
    "df_veterinario"
   ]
  },
  {
   "cell_type": "markdown",
   "id": "1bac5f6b",
   "metadata": {},
   "source": [
    "### Competency"
   ]
  },
  {
   "cell_type": "code",
   "execution_count": 89,
   "id": "eff09b06",
   "metadata": {},
   "outputs": [],
   "source": [
    "df_competency = pd.read_csv(\"data/competency.csv\",encoding = \"ISO-8859-1\", dtype=str)"
   ]
  },
  {
   "cell_type": "code",
   "execution_count": 90,
   "id": "f89686cf",
   "metadata": {},
   "outputs": [
    {
     "data": {
      "text/html": [
       "<div>\n",
       "<style scoped>\n",
       "    .dataframe tbody tr th:only-of-type {\n",
       "        vertical-align: middle;\n",
       "    }\n",
       "\n",
       "    .dataframe tbody tr th {\n",
       "        vertical-align: top;\n",
       "    }\n",
       "\n",
       "    .dataframe thead th {\n",
       "        text-align: right;\n",
       "    }\n",
       "</style>\n",
       "<table border=\"1\" class=\"dataframe\">\n",
       "  <thead>\n",
       "    <tr style=\"text-align: right;\">\n",
       "      <th></th>\n",
       "      <th>name</th>\n",
       "      <th>latitude</th>\n",
       "      <th>longitude</th>\n",
       "    </tr>\n",
       "  </thead>\n",
       "  <tbody>\n",
       "    <tr>\n",
       "      <th>0</th>\n",
       "      <td>Fon</td>\n",
       "      <td>40.530724</td>\n",
       "      <td>-3.632687</td>\n",
       "    </tr>\n",
       "    <tr>\n",
       "      <th>1</th>\n",
       "      <td>eRepublik</td>\n",
       "      <td>40.43094</td>\n",
       "      <td>-3.6952896</td>\n",
       "    </tr>\n",
       "    <tr>\n",
       "      <th>2</th>\n",
       "      <td>Videoplaza</td>\n",
       "      <td>40.4596242</td>\n",
       "      <td>-3.6923285</td>\n",
       "    </tr>\n",
       "    <tr>\n",
       "      <th>3</th>\n",
       "      <td>Busuu</td>\n",
       "      <td>40.4225487</td>\n",
       "      <td>-3.6830316</td>\n",
       "    </tr>\n",
       "    <tr>\n",
       "      <th>4</th>\n",
       "      <td>Nexway</td>\n",
       "      <td>40.4142986</td>\n",
       "      <td>-3.7033074</td>\n",
       "    </tr>\n",
       "    <tr>\n",
       "      <th>5</th>\n",
       "      <td>Comunitae</td>\n",
       "      <td>40.4905109</td>\n",
       "      <td>-3.7033403</td>\n",
       "    </tr>\n",
       "    <tr>\n",
       "      <th>6</th>\n",
       "      <td>Tuenti Technologies</td>\n",
       "      <td>40.4158236</td>\n",
       "      <td>-3.696277</td>\n",
       "    </tr>\n",
       "    <tr>\n",
       "      <th>7</th>\n",
       "      <td>Virgin Play</td>\n",
       "      <td>40.4273082</td>\n",
       "      <td>-3.6895115</td>\n",
       "    </tr>\n",
       "    <tr>\n",
       "      <th>8</th>\n",
       "      <td>ticketea</td>\n",
       "      <td>40.4455155</td>\n",
       "      <td>-3.7061764</td>\n",
       "    </tr>\n",
       "    <tr>\n",
       "      <th>9</th>\n",
       "      <td>Genasys</td>\n",
       "      <td>40.4161835</td>\n",
       "      <td>-3.6988729</td>\n",
       "    </tr>\n",
       "    <tr>\n",
       "      <th>10</th>\n",
       "      <td>BuyVIP</td>\n",
       "      <td>40.4167413</td>\n",
       "      <td>-3.7032498</td>\n",
       "    </tr>\n",
       "    <tr>\n",
       "      <th>11</th>\n",
       "      <td>Fon</td>\n",
       "      <td>40.530724</td>\n",
       "      <td>-3.632687</td>\n",
       "    </tr>\n",
       "    <tr>\n",
       "      <th>12</th>\n",
       "      <td>eRepublik</td>\n",
       "      <td>40.43094</td>\n",
       "      <td>-3.6952896</td>\n",
       "    </tr>\n",
       "    <tr>\n",
       "      <th>13</th>\n",
       "      <td>Videoplaza</td>\n",
       "      <td>40.4596242</td>\n",
       "      <td>-3.6923285</td>\n",
       "    </tr>\n",
       "    <tr>\n",
       "      <th>14</th>\n",
       "      <td>Busuu</td>\n",
       "      <td>40.4225487</td>\n",
       "      <td>-3.6830316</td>\n",
       "    </tr>\n",
       "    <tr>\n",
       "      <th>15</th>\n",
       "      <td>Nexway</td>\n",
       "      <td>40.4142986</td>\n",
       "      <td>-3.7033074</td>\n",
       "    </tr>\n",
       "    <tr>\n",
       "      <th>16</th>\n",
       "      <td>Comunitae</td>\n",
       "      <td>40.4905109</td>\n",
       "      <td>-3.7033403</td>\n",
       "    </tr>\n",
       "    <tr>\n",
       "      <th>17</th>\n",
       "      <td>Tuenti Technologies</td>\n",
       "      <td>40.4158236</td>\n",
       "      <td>-3.696277</td>\n",
       "    </tr>\n",
       "    <tr>\n",
       "      <th>18</th>\n",
       "      <td>Virgin Play</td>\n",
       "      <td>40.4273082</td>\n",
       "      <td>-3.6895115</td>\n",
       "    </tr>\n",
       "    <tr>\n",
       "      <th>19</th>\n",
       "      <td>ticketea</td>\n",
       "      <td>40.4455155</td>\n",
       "      <td>-3.7061764</td>\n",
       "    </tr>\n",
       "    <tr>\n",
       "      <th>20</th>\n",
       "      <td>Genasys</td>\n",
       "      <td>40.4161835</td>\n",
       "      <td>-3.6988729</td>\n",
       "    </tr>\n",
       "    <tr>\n",
       "      <th>21</th>\n",
       "      <td>BuyVIP</td>\n",
       "      <td>40.4167413</td>\n",
       "      <td>-3.7032498</td>\n",
       "    </tr>\n",
       "  </tbody>\n",
       "</table>\n",
       "</div>"
      ],
      "text/plain": [
       "                   name    latitude   longitude\n",
       "0                   Fon   40.530724   -3.632687\n",
       "1             eRepublik    40.43094  -3.6952896\n",
       "2            Videoplaza  40.4596242  -3.6923285\n",
       "3                 Busuu  40.4225487  -3.6830316\n",
       "4                Nexway  40.4142986  -3.7033074\n",
       "5             Comunitae  40.4905109  -3.7033403\n",
       "6   Tuenti Technologies  40.4158236   -3.696277\n",
       "7           Virgin Play  40.4273082  -3.6895115\n",
       "8              ticketea  40.4455155  -3.7061764\n",
       "9               Genasys  40.4161835  -3.6988729\n",
       "10               BuyVIP  40.4167413  -3.7032498\n",
       "11                  Fon   40.530724   -3.632687\n",
       "12            eRepublik    40.43094  -3.6952896\n",
       "13           Videoplaza  40.4596242  -3.6923285\n",
       "14                Busuu  40.4225487  -3.6830316\n",
       "15               Nexway  40.4142986  -3.7033074\n",
       "16            Comunitae  40.4905109  -3.7033403\n",
       "17  Tuenti Technologies  40.4158236   -3.696277\n",
       "18          Virgin Play  40.4273082  -3.6895115\n",
       "19             ticketea  40.4455155  -3.7061764\n",
       "20              Genasys  40.4161835  -3.6988729\n",
       "21               BuyVIP  40.4167413  -3.7032498"
      ]
     },
     "execution_count": 90,
     "metadata": {},
     "output_type": "execute_result"
    }
   ],
   "source": [
    "df_competency"
   ]
  },
  {
   "cell_type": "code",
   "execution_count": 50,
   "id": "ea1b0bf6",
   "metadata": {},
   "outputs": [],
   "source": [
    "documentos = []\n",
    "for x in range(0, len(df_competency)):\n",
    "    temporal = {\n",
    "        \"name\": df_competency.name[x],\n",
    "        \"location\": {\"type\": \"Point\", \"coordinates\": [float(df_competency.latitude[x]), float(df_competency.longitude[x])]}\n",
    "    }\n",
    "    documentos.append(temporal)\n",
    "\n",
    "df_competency = pd.DataFrame(documentos)"
   ]
  },
  {
   "cell_type": "code",
   "execution_count": 51,
   "id": "73d1a850",
   "metadata": {},
   "outputs": [],
   "source": [
    "df_competency['tipo'] = 'competency'"
   ]
  },
  {
   "cell_type": "markdown",
   "id": "6ade380b",
   "metadata": {},
   "source": [
    "### Check offices"
   ]
  },
  {
   "cell_type": "code",
   "execution_count": 52,
   "id": "81263658",
   "metadata": {},
   "outputs": [],
   "source": [
    "venues = pd.concat([df_starbucks, df_veganos, df_aeropuerto, df_discoteca, df_baloncesto, df_infantil, df_veterinario, df_competency])"
   ]
  },
  {
   "cell_type": "code",
   "execution_count": 53,
   "id": "d16bc3bc",
   "metadata": {},
   "outputs": [
    {
     "data": {
      "text/html": [
       "<div>\n",
       "<style scoped>\n",
       "    .dataframe tbody tr th:only-of-type {\n",
       "        vertical-align: middle;\n",
       "    }\n",
       "\n",
       "    .dataframe tbody tr th {\n",
       "        vertical-align: top;\n",
       "    }\n",
       "\n",
       "    .dataframe thead th {\n",
       "        text-align: right;\n",
       "    }\n",
       "</style>\n",
       "<table border=\"1\" class=\"dataframe\">\n",
       "  <thead>\n",
       "    <tr style=\"text-align: right;\">\n",
       "      <th></th>\n",
       "      <th>name</th>\n",
       "      <th>location</th>\n",
       "      <th>tipo</th>\n",
       "    </tr>\n",
       "  </thead>\n",
       "  <tbody>\n",
       "    <tr>\n",
       "      <th>0</th>\n",
       "      <td>Starbucks Room Mate Oscar</td>\n",
       "      <td>{'type': 'Point', 'coordinates': [40.420751835...</td>\n",
       "      <td>starbucks</td>\n",
       "    </tr>\n",
       "    <tr>\n",
       "      <th>1</th>\n",
       "      <td>Starbucks Princesa 40</td>\n",
       "      <td>{'type': 'Point', 'coordinates': [40.429068740...</td>\n",
       "      <td>starbucks</td>\n",
       "    </tr>\n",
       "    <tr>\n",
       "      <th>2</th>\n",
       "      <td>Starbucks Plaza Río 2</td>\n",
       "      <td>{'type': 'Point', 'coordinates': [40.391303854...</td>\n",
       "      <td>starbucks</td>\n",
       "    </tr>\n",
       "    <tr>\n",
       "      <th>3</th>\n",
       "      <td>Starbucks Pozuelo</td>\n",
       "      <td>{'type': 'Point', 'coordinates': [40.438168161...</td>\n",
       "      <td>starbucks</td>\n",
       "    </tr>\n",
       "    <tr>\n",
       "      <th>4</th>\n",
       "      <td>Starbucks ECI Castellana (Starbucks)</td>\n",
       "      <td>{'type': 'Point', 'coordinates': [40.447488723...</td>\n",
       "      <td>starbucks</td>\n",
       "    </tr>\n",
       "    <tr>\n",
       "      <th>...</th>\n",
       "      <td>...</td>\n",
       "      <td>...</td>\n",
       "      <td>...</td>\n",
       "    </tr>\n",
       "    <tr>\n",
       "      <th>17</th>\n",
       "      <td>Tuenti Technologies</td>\n",
       "      <td>{'type': 'Point', 'coordinates': [40.4158236, ...</td>\n",
       "      <td>competency</td>\n",
       "    </tr>\n",
       "    <tr>\n",
       "      <th>18</th>\n",
       "      <td>Virgin Play</td>\n",
       "      <td>{'type': 'Point', 'coordinates': [40.4273082, ...</td>\n",
       "      <td>competency</td>\n",
       "    </tr>\n",
       "    <tr>\n",
       "      <th>19</th>\n",
       "      <td>ticketea</td>\n",
       "      <td>{'type': 'Point', 'coordinates': [40.4455155, ...</td>\n",
       "      <td>competency</td>\n",
       "    </tr>\n",
       "    <tr>\n",
       "      <th>20</th>\n",
       "      <td>Genasys</td>\n",
       "      <td>{'type': 'Point', 'coordinates': [40.4161835, ...</td>\n",
       "      <td>competency</td>\n",
       "    </tr>\n",
       "    <tr>\n",
       "      <th>21</th>\n",
       "      <td>BuyVIP</td>\n",
       "      <td>{'type': 'Point', 'coordinates': [40.4167413, ...</td>\n",
       "      <td>competency</td>\n",
       "    </tr>\n",
       "  </tbody>\n",
       "</table>\n",
       "<p>272 rows × 3 columns</p>\n",
       "</div>"
      ],
      "text/plain": [
       "                                    name  \\\n",
       "0              Starbucks Room Mate Oscar   \n",
       "1                  Starbucks Princesa 40   \n",
       "2                  Starbucks Plaza Río 2   \n",
       "3                      Starbucks Pozuelo   \n",
       "4   Starbucks ECI Castellana (Starbucks)   \n",
       "..                                   ...   \n",
       "17                   Tuenti Technologies   \n",
       "18                           Virgin Play   \n",
       "19                              ticketea   \n",
       "20                               Genasys   \n",
       "21                                BuyVIP   \n",
       "\n",
       "                                             location        tipo  \n",
       "0   {'type': 'Point', 'coordinates': [40.420751835...   starbucks  \n",
       "1   {'type': 'Point', 'coordinates': [40.429068740...   starbucks  \n",
       "2   {'type': 'Point', 'coordinates': [40.391303854...   starbucks  \n",
       "3   {'type': 'Point', 'coordinates': [40.438168161...   starbucks  \n",
       "4   {'type': 'Point', 'coordinates': [40.447488723...   starbucks  \n",
       "..                                                ...         ...  \n",
       "17  {'type': 'Point', 'coordinates': [40.4158236, ...  competency  \n",
       "18  {'type': 'Point', 'coordinates': [40.4273082, ...  competency  \n",
       "19  {'type': 'Point', 'coordinates': [40.4455155, ...  competency  \n",
       "20  {'type': 'Point', 'coordinates': [40.4161835, ...  competency  \n",
       "21  {'type': 'Point', 'coordinates': [40.4167413, ...  competency  \n",
       "\n",
       "[272 rows x 3 columns]"
      ]
     },
     "execution_count": 53,
     "metadata": {},
     "output_type": "execute_result"
    }
   ],
   "source": [
    "venues"
   ]
  },
  {
   "cell_type": "code",
   "execution_count": 54,
   "id": "6f1f1ebc",
   "metadata": {},
   "outputs": [],
   "source": [
    "venues.to_json(\"data/venues.json\", orient=\"records\")"
   ]
  },
  {
   "cell_type": "code",
   "execution_count": 2,
   "id": "511d7f22",
   "metadata": {},
   "outputs": [],
   "source": [
    "client = MongoClient(\"localhost:27017\")\n",
    "db = client.get_database(\"ironhack\")"
   ]
  },
  {
   "cell_type": "code",
   "execution_count": 3,
   "id": "a91905f3",
   "metadata": {},
   "outputs": [],
   "source": [
    "venues_mongo = db.get_collection(\"venues\")"
   ]
  },
  {
   "cell_type": "code",
   "execution_count": 4,
   "id": "c515e490",
   "metadata": {},
   "outputs": [
    {
     "data": {
      "text/plain": [
       "{'_id': ObjectId('607d5cab941fb22df8d615c0'),\n",
       " 'name': 'Starbucks Room Mate Oscar',\n",
       " 'location': {'type': 'Point', 'coordinates': [40.4207518355, -3.6993145297]},\n",
       " 'tipo': 'starbucks'}"
      ]
     },
     "execution_count": 4,
     "metadata": {},
     "output_type": "execute_result"
    }
   ],
   "source": [
    "venues_mongo.find_one({})"
   ]
  },
  {
   "cell_type": "code",
   "execution_count": 5,
   "id": "4ca265fb",
   "metadata": {},
   "outputs": [],
   "source": [
    "df_companies = pd.read_csv(\"data/companies.csv\",encoding = \"ISO-8859-1\", dtype=str)"
   ]
  },
  {
   "cell_type": "markdown",
   "id": "1743af4d",
   "metadata": {},
   "source": [
    "### Comprobamos oficinas"
   ]
  },
  {
   "cell_type": "code",
   "execution_count": 6,
   "id": "1a2abf56",
   "metadata": {},
   "outputs": [],
   "source": [
    "AsesorSeguros = [40.497716, -3.647842]\n",
    "NotePub = [40.416741, -3.70325]\n",
    "FeedzZ = [40.4722272, -3.6532523]\n",
    "Adoos = [40.432883, -3.8166758]\n",
    "MediBANK = [40.4718534, -3.8203307]\n",
    "Gennio = [40.4346935, -3.6782829]\n",
    "Zankyou = [40.6070897, -3.6912754]"
   ]
  },
  {
   "cell_type": "code",
   "execution_count": 7,
   "id": "a9b20e65",
   "metadata": {},
   "outputs": [],
   "source": [
    "AsesorSeguros_point = {\"type\": \"Point\",  \"coordinates\": AsesorSeguros}\n",
    "NotePub_point = {\"type\": \"Point\",  \"coordinates\": NotePub}\n",
    "FeedzZ_point = {\"type\": \"Point\",  \"coordinates\": FeedzZ}\n",
    "Adoos_point = {\"type\": \"Point\",  \"coordinates\": Adoos}\n",
    "MediBANK_point = {\"type\": \"Point\",  \"coordinates\": MediBANK}\n",
    "Gennio_point = {\"type\": \"Point\",  \"coordinates\": Gennio}\n",
    "Zankyou_point = {\"type\": \"Point\",  \"coordinates\": Zankyou}"
   ]
  },
  {
   "cell_type": "code",
   "execution_count": 8,
   "id": "9f9b3b2a",
   "metadata": {},
   "outputs": [],
   "source": [
    "##consulta = {\"location\": {\"$near\": {\"$geometry\": possible_office_point, \"$maxDistance\": 2500}}}"
   ]
  },
  {
   "cell_type": "code",
   "execution_count": 9,
   "id": "220d314f",
   "metadata": {},
   "outputs": [],
   "source": [
    "#venues_mongo = list(venues_mongo.find(consulta))"
   ]
  },
  {
   "cell_type": "code",
   "execution_count": 57,
   "id": "3bfdf07e",
   "metadata": {},
   "outputs": [],
   "source": [
    "AsesorSeguros = [{'$geoNear': {'near': AsesorSeguros_point , 'distanceField': 'dist', 'maxDistance': 1000, 'spherical': True}}]"
   ]
  },
  {
   "cell_type": "code",
   "execution_count": 58,
   "id": "afd5cc11",
   "metadata": {},
   "outputs": [],
   "source": [
    "AsesorSeguros = list(venues_mongo.aggregate(AsesorSeguros))"
   ]
  },
  {
   "cell_type": "code",
   "execution_count": 59,
   "id": "ff53da1d",
   "metadata": {},
   "outputs": [],
   "source": [
    "df_AsesorSeguros = pd.DataFrame(AsesorSeguros)"
   ]
  },
  {
   "cell_type": "code",
   "execution_count": 60,
   "id": "895b2a66",
   "metadata": {},
   "outputs": [],
   "source": [
    "df_AsesorSeguros_distance = api.mindistance(df_AsesorSeguros)"
   ]
  },
  {
   "cell_type": "code",
   "execution_count": 61,
   "id": "bc040081",
   "metadata": {},
   "outputs": [
    {
     "data": {
      "text/html": [
       "<div>\n",
       "<style scoped>\n",
       "    .dataframe tbody tr th:only-of-type {\n",
       "        vertical-align: middle;\n",
       "    }\n",
       "\n",
       "    .dataframe tbody tr th {\n",
       "        vertical-align: top;\n",
       "    }\n",
       "\n",
       "    .dataframe thead th {\n",
       "        text-align: right;\n",
       "    }\n",
       "</style>\n",
       "<table border=\"1\" class=\"dataframe\">\n",
       "  <thead>\n",
       "    <tr style=\"text-align: right;\">\n",
       "      <th></th>\n",
       "      <th>vegan</th>\n",
       "      <th>club</th>\n",
       "      <th>competency</th>\n",
       "      <th>kindergarten</th>\n",
       "      <th>starbucks</th>\n",
       "      <th>basketball</th>\n",
       "      <th>hairdresser</th>\n",
       "    </tr>\n",
       "  </thead>\n",
       "  <tbody>\n",
       "    <tr>\n",
       "      <th>0</th>\n",
       "      <td>[]</td>\n",
       "      <td>[]</td>\n",
       "      <td>[]</td>\n",
       "      <td>[]</td>\n",
       "      <td>[]</td>\n",
       "      <td>[]</td>\n",
       "      <td>[]</td>\n",
       "    </tr>\n",
       "  </tbody>\n",
       "</table>\n",
       "</div>"
      ],
      "text/plain": [
       "  vegan club competency kindergarten starbucks basketball hairdresser\n",
       "0    []   []         []           []        []         []          []"
      ]
     },
     "execution_count": 61,
     "metadata": {},
     "output_type": "execute_result"
    }
   ],
   "source": [
    "df_AsesorSeguros_distance"
   ]
  },
  {
   "cell_type": "code",
   "execution_count": 62,
   "id": "292ba547",
   "metadata": {},
   "outputs": [],
   "source": [
    "NotePub = [{'$geoNear': {'near': NotePub_point , 'distanceField': 'dist', 'maxDistance': 1000, 'spherical': True}}]"
   ]
  },
  {
   "cell_type": "code",
   "execution_count": 63,
   "id": "8f7995f5",
   "metadata": {},
   "outputs": [],
   "source": [
    "NotePub = list(venues_mongo.aggregate(NotePub))"
   ]
  },
  {
   "cell_type": "code",
   "execution_count": 64,
   "id": "827a2793",
   "metadata": {},
   "outputs": [],
   "source": [
    "df_NotePub = pd.DataFrame(NotePub)"
   ]
  },
  {
   "cell_type": "code",
   "execution_count": 65,
   "id": "00329bb3",
   "metadata": {},
   "outputs": [],
   "source": [
    "df_NotePub_distance = api.mindistance(df_NotePub)"
   ]
  },
  {
   "cell_type": "code",
   "execution_count": 66,
   "id": "adbcf1dd",
   "metadata": {},
   "outputs": [
    {
     "data": {
      "text/html": [
       "<div>\n",
       "<style scoped>\n",
       "    .dataframe tbody tr th:only-of-type {\n",
       "        vertical-align: middle;\n",
       "    }\n",
       "\n",
       "    .dataframe tbody tr th {\n",
       "        vertical-align: top;\n",
       "    }\n",
       "\n",
       "    .dataframe thead th {\n",
       "        text-align: right;\n",
       "    }\n",
       "</style>\n",
       "<table border=\"1\" class=\"dataframe\">\n",
       "  <thead>\n",
       "    <tr style=\"text-align: right;\">\n",
       "      <th></th>\n",
       "      <th>vegan</th>\n",
       "      <th>club</th>\n",
       "      <th>competency</th>\n",
       "      <th>kindergarten</th>\n",
       "      <th>starbucks</th>\n",
       "      <th>basketball</th>\n",
       "      <th>hairdresser</th>\n",
       "    </tr>\n",
       "  </thead>\n",
       "  <tbody>\n",
       "    <tr>\n",
       "      <th>0</th>\n",
       "      <td>124.053124</td>\n",
       "      <td>117.139576</td>\n",
       "      <td>0.040079</td>\n",
       "      <td>981.905569</td>\n",
       "      <td>103.219211</td>\n",
       "      <td>614.02941</td>\n",
       "      <td>[]</td>\n",
       "    </tr>\n",
       "  </tbody>\n",
       "</table>\n",
       "</div>"
      ],
      "text/plain": [
       "        vegan        club  competency  kindergarten   starbucks  basketball  \\\n",
       "0  124.053124  117.139576    0.040079    981.905569  103.219211   614.02941   \n",
       "\n",
       "  hairdresser  \n",
       "0          []  "
      ]
     },
     "execution_count": 66,
     "metadata": {},
     "output_type": "execute_result"
    }
   ],
   "source": [
    "df_NotePub_distance"
   ]
  },
  {
   "cell_type": "code",
   "execution_count": 67,
   "id": "e48a78da",
   "metadata": {},
   "outputs": [],
   "source": [
    "FeedzZ = [{'$geoNear': {'near': FeedzZ_point , 'distanceField': 'dist', 'maxDistance': 1000, 'spherical': True}}]"
   ]
  },
  {
   "cell_type": "code",
   "execution_count": 68,
   "id": "5dc60b52",
   "metadata": {},
   "outputs": [],
   "source": [
    "FeedzZ = list(venues_mongo.aggregate(FeedzZ))"
   ]
  },
  {
   "cell_type": "code",
   "execution_count": 69,
   "id": "b3ba5a6c",
   "metadata": {},
   "outputs": [],
   "source": [
    "df_FeedzZ = pd.DataFrame(FeedzZ)"
   ]
  },
  {
   "cell_type": "code",
   "execution_count": 70,
   "id": "b84fa2b4",
   "metadata": {},
   "outputs": [],
   "source": [
    "df_FeedzZ_distance = api.mindistance(df_FeedzZ)"
   ]
  },
  {
   "cell_type": "code",
   "execution_count": 71,
   "id": "f534f184",
   "metadata": {},
   "outputs": [
    {
     "data": {
      "text/html": [
       "<div>\n",
       "<style scoped>\n",
       "    .dataframe tbody tr th:only-of-type {\n",
       "        vertical-align: middle;\n",
       "    }\n",
       "\n",
       "    .dataframe tbody tr th {\n",
       "        vertical-align: top;\n",
       "    }\n",
       "\n",
       "    .dataframe thead th {\n",
       "        text-align: right;\n",
       "    }\n",
       "</style>\n",
       "<table border=\"1\" class=\"dataframe\">\n",
       "  <thead>\n",
       "    <tr style=\"text-align: right;\">\n",
       "      <th></th>\n",
       "      <th>vegan</th>\n",
       "      <th>club</th>\n",
       "      <th>competency</th>\n",
       "      <th>kindergarten</th>\n",
       "      <th>starbucks</th>\n",
       "      <th>basketball</th>\n",
       "      <th>hairdresser</th>\n",
       "    </tr>\n",
       "  </thead>\n",
       "  <tbody>\n",
       "    <tr>\n",
       "      <th>0</th>\n",
       "      <td>[]</td>\n",
       "      <td>638.068043</td>\n",
       "      <td>[]</td>\n",
       "      <td>[]</td>\n",
       "      <td>[]</td>\n",
       "      <td>751.651838</td>\n",
       "      <td>[]</td>\n",
       "    </tr>\n",
       "  </tbody>\n",
       "</table>\n",
       "</div>"
      ],
      "text/plain": [
       "  vegan        club competency kindergarten starbucks  basketball hairdresser\n",
       "0    []  638.068043         []           []        []  751.651838          []"
      ]
     },
     "execution_count": 71,
     "metadata": {},
     "output_type": "execute_result"
    }
   ],
   "source": [
    "df_FeedzZ_distance"
   ]
  },
  {
   "cell_type": "code",
   "execution_count": 72,
   "id": "85e88023",
   "metadata": {},
   "outputs": [],
   "source": [
    "Adoos = [{'$geoNear': {'near': Adoos_point , 'distanceField': 'dist', 'maxDistance': 1000, 'spherical': True}}]"
   ]
  },
  {
   "cell_type": "code",
   "execution_count": 73,
   "id": "ee6f86ef",
   "metadata": {},
   "outputs": [],
   "source": [
    "Adoos = list(venues_mongo.aggregate(Adoos))"
   ]
  },
  {
   "cell_type": "code",
   "execution_count": 74,
   "id": "897106ac",
   "metadata": {},
   "outputs": [],
   "source": [
    "df_Adoos = pd.DataFrame(Adoos)"
   ]
  },
  {
   "cell_type": "code",
   "execution_count": 75,
   "id": "85927c3d",
   "metadata": {},
   "outputs": [],
   "source": [
    "df_Adoos_distance = api.mindistance(df_Adoos)"
   ]
  },
  {
   "cell_type": "code",
   "execution_count": 76,
   "id": "c06cce82",
   "metadata": {},
   "outputs": [
    {
     "data": {
      "text/html": [
       "<div>\n",
       "<style scoped>\n",
       "    .dataframe tbody tr th:only-of-type {\n",
       "        vertical-align: middle;\n",
       "    }\n",
       "\n",
       "    .dataframe tbody tr th {\n",
       "        vertical-align: top;\n",
       "    }\n",
       "\n",
       "    .dataframe thead th {\n",
       "        text-align: right;\n",
       "    }\n",
       "</style>\n",
       "<table border=\"1\" class=\"dataframe\">\n",
       "  <thead>\n",
       "    <tr style=\"text-align: right;\">\n",
       "      <th></th>\n",
       "      <th>vegan</th>\n",
       "      <th>club</th>\n",
       "      <th>competency</th>\n",
       "      <th>kindergarten</th>\n",
       "      <th>starbucks</th>\n",
       "      <th>basketball</th>\n",
       "      <th>hairdresser</th>\n",
       "    </tr>\n",
       "  </thead>\n",
       "  <tbody>\n",
       "    <tr>\n",
       "      <th>0</th>\n",
       "      <td>[]</td>\n",
       "      <td>[]</td>\n",
       "      <td>[]</td>\n",
       "      <td>[]</td>\n",
       "      <td>[]</td>\n",
       "      <td>[]</td>\n",
       "      <td>[]</td>\n",
       "    </tr>\n",
       "  </tbody>\n",
       "</table>\n",
       "</div>"
      ],
      "text/plain": [
       "  vegan club competency kindergarten starbucks basketball hairdresser\n",
       "0    []   []         []           []        []         []          []"
      ]
     },
     "execution_count": 76,
     "metadata": {},
     "output_type": "execute_result"
    }
   ],
   "source": [
    "df_Adoos_distance"
   ]
  },
  {
   "cell_type": "code",
   "execution_count": 77,
   "id": "3894d0f5",
   "metadata": {},
   "outputs": [],
   "source": [
    "MediBANK = [{'$geoNear': {'near': MediBANK_point , 'distanceField': 'dist', 'maxDistance': 1000, 'spherical': True}}]"
   ]
  },
  {
   "cell_type": "code",
   "execution_count": 78,
   "id": "9292abf5",
   "metadata": {},
   "outputs": [],
   "source": [
    "MediBANK = list(venues_mongo.aggregate(MediBANK))"
   ]
  },
  {
   "cell_type": "code",
   "execution_count": 79,
   "id": "f49cb8ed",
   "metadata": {},
   "outputs": [],
   "source": [
    "df_MediBANK = pd.DataFrame(MediBANK)"
   ]
  },
  {
   "cell_type": "code",
   "execution_count": 80,
   "id": "e267a6b6",
   "metadata": {},
   "outputs": [],
   "source": [
    "df_MediBANK_distance = api.mindistance(df_MediBANK)"
   ]
  },
  {
   "cell_type": "code",
   "execution_count": 81,
   "id": "1fb86c81",
   "metadata": {},
   "outputs": [
    {
     "data": {
      "text/html": [
       "<div>\n",
       "<style scoped>\n",
       "    .dataframe tbody tr th:only-of-type {\n",
       "        vertical-align: middle;\n",
       "    }\n",
       "\n",
       "    .dataframe tbody tr th {\n",
       "        vertical-align: top;\n",
       "    }\n",
       "\n",
       "    .dataframe thead th {\n",
       "        text-align: right;\n",
       "    }\n",
       "</style>\n",
       "<table border=\"1\" class=\"dataframe\">\n",
       "  <thead>\n",
       "    <tr style=\"text-align: right;\">\n",
       "      <th></th>\n",
       "      <th>vegan</th>\n",
       "      <th>club</th>\n",
       "      <th>competency</th>\n",
       "      <th>kindergarten</th>\n",
       "      <th>starbucks</th>\n",
       "      <th>basketball</th>\n",
       "      <th>hairdresser</th>\n",
       "    </tr>\n",
       "  </thead>\n",
       "  <tbody>\n",
       "    <tr>\n",
       "      <th>0</th>\n",
       "      <td>[]</td>\n",
       "      <td>[]</td>\n",
       "      <td>[]</td>\n",
       "      <td>[]</td>\n",
       "      <td>[]</td>\n",
       "      <td>[]</td>\n",
       "      <td>[]</td>\n",
       "    </tr>\n",
       "  </tbody>\n",
       "</table>\n",
       "</div>"
      ],
      "text/plain": [
       "  vegan club competency kindergarten starbucks basketball hairdresser\n",
       "0    []   []         []           []        []         []          []"
      ]
     },
     "execution_count": 81,
     "metadata": {},
     "output_type": "execute_result"
    }
   ],
   "source": [
    "df_MediBANK_distance"
   ]
  },
  {
   "cell_type": "markdown",
   "id": "0e9df01e",
   "metadata": {},
   "source": [
    "## Me quedo con Notepub "
   ]
  },
  {
   "cell_type": "code",
   "execution_count": 82,
   "id": "8d8144d4",
   "metadata": {},
   "outputs": [],
   "source": [
    "df_NotePub = pd.DataFrame(NotePub)"
   ]
  },
  {
   "cell_type": "markdown",
   "id": "5c0bb000",
   "metadata": {},
   "source": [
    "### Add lat y lon for maps"
   ]
  },
  {
   "cell_type": "code",
   "execution_count": 84,
   "id": "61a282c1",
   "metadata": {},
   "outputs": [],
   "source": [
    "lat = []\n",
    "for x in range(0, len(df_NotePub)):\n",
    "       lat.append(df_NotePub.location[x].get('coordinates')[0])"
   ]
  },
  {
   "cell_type": "code",
   "execution_count": 85,
   "id": "721b0a06",
   "metadata": {},
   "outputs": [],
   "source": [
    "lon = []\n",
    "for x in range(0, len(df_NotePub)):\n",
    "       lon.append(df_NotePub.location[x].get('coordinates')[1])"
   ]
  },
  {
   "cell_type": "code",
   "execution_count": 86,
   "id": "bed50910",
   "metadata": {},
   "outputs": [],
   "source": [
    "df_NotePub['lat'] = lat\n",
    "df_NotePub['lon'] = lon"
   ]
  },
  {
   "cell_type": "code",
   "execution_count": 87,
   "id": "fb1a9295",
   "metadata": {},
   "outputs": [],
   "source": [
    "df_NotePub.to_csv('data/df_NotePub.csv', index=False)"
   ]
  },
  {
   "cell_type": "markdown",
   "id": "aa479638",
   "metadata": {},
   "source": [
    "#### Otra manera de sacar distancia"
   ]
  },
  {
   "cell_type": "code",
   "execution_count": null,
   "id": "4b5cef7c",
   "metadata": {},
   "outputs": [],
   "source": [
    "latlin1 = [40.408808, -3.7034796]\n",
    "latlon2 = 0\n",
    "for n in df.location:\n",
    "    coordinates = n.get('coordinates')\n",
    "latlon2.append(coordinates)"
   ]
  },
  {
   "cell_type": "code",
   "execution_count": 104,
   "id": "03bf4eb0",
   "metadata": {},
   "outputs": [],
   "source": [
    "latlon1 = [40.408808, -3.7034796]\n",
    "latlon2 = []\n",
    "for x in range(0, len(df)):\n",
    "       latlon2.append(df.location[x].get('coordinates'))"
   ]
  },
  {
   "cell_type": "code",
   "execution_count": 113,
   "id": "e2d9a730",
   "metadata": {},
   "outputs": [],
   "source": [
    "latlon1 = [40.408808, -3.7034796]\n",
    "latlon2 = [40.4119769783, -3.7011140219]"
   ]
  },
  {
   "cell_type": "code",
   "execution_count": 114,
   "id": "75d79335",
   "metadata": {},
   "outputs": [],
   "source": [
    "import math"
   ]
  },
  {
   "cell_type": "code",
   "execution_count": 115,
   "id": "eae20d64",
   "metadata": {},
   "outputs": [],
   "source": [
    "def latlon_dist(latlon1,latlon2):\n",
    "    \"\"\"\n",
    "    This functions returns the distance between 2 points with its coordinates\n",
    "    in lat long.\n",
    "    latlon1,latlong2: list[lat,long]\n",
    "    \n",
    "    return distance in km\n",
    "    \"\"\"\n",
    "  \n",
    "    lat1=math.radians(latlon1[0])\n",
    "    lon1=math.radians(latlon1[1])\n",
    "\n",
    "    lat2=math.radians(latlon2[0])\n",
    "    lon2=math.radians(latlon2[1])\n",
    "\n",
    "    R = 6373.0\n",
    "\n",
    "    dlon = lon2 - lon1\n",
    "    dlat = lat2 - lat1\n",
    "\n",
    "    a = math.sin(dlat / 2)**2 + math.cos(lat1) * math.cos(lat2) * math.sin(dlon / 2)**2\n",
    "    c = 2 * math.atan2(math.sqrt(a), math.sqrt(1 - a))\n",
    "    return R * c "
   ]
  },
  {
   "cell_type": "code",
   "execution_count": 116,
   "id": "3a764d4c",
   "metadata": {},
   "outputs": [
    {
     "data": {
      "text/plain": [
       "0.4054437382635998"
      ]
     },
     "execution_count": 116,
     "metadata": {},
     "output_type": "execute_result"
    }
   ],
   "source": [
    "latlon_dist(latlon1,latlon2)"
   ]
  }
 ],
 "metadata": {
  "kernelspec": {
   "display_name": "Python 3",
   "language": "python",
   "name": "python3"
  },
  "language_info": {
   "codemirror_mode": {
    "name": "ipython",
    "version": 3
   },
   "file_extension": ".py",
   "mimetype": "text/x-python",
   "name": "python",
   "nbconvert_exporter": "python",
   "pygments_lexer": "ipython3",
   "version": "3.8.8"
  }
 },
 "nbformat": 4,
 "nbformat_minor": 5
}
